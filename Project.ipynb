{
 "cells": [
  {
   "cell_type": "code",
   "execution_count": 2,
   "id": "f384ec4b",
   "metadata": {},
   "outputs": [],
   "source": [
    "import pandas as pd"
   ]
  },
  {
   "cell_type": "code",
   "execution_count": 3,
   "id": "a11c9dd3",
   "metadata": {},
   "outputs": [
    {
     "data": {
      "text/html": [
       "<div>\n",
       "<style scoped>\n",
       "    .dataframe tbody tr th:only-of-type {\n",
       "        vertical-align: middle;\n",
       "    }\n",
       "\n",
       "    .dataframe tbody tr th {\n",
       "        vertical-align: top;\n",
       "    }\n",
       "\n",
       "    .dataframe thead th {\n",
       "        text-align: right;\n",
       "    }\n",
       "</style>\n",
       "<table border=\"1\" class=\"dataframe\">\n",
       "  <thead>\n",
       "    <tr style=\"text-align: right;\">\n",
       "      <th></th>\n",
       "      <th>Unnamed: 0</th>\n",
       "      <th>Message</th>\n",
       "      <th>Tweet Favorite Count</th>\n",
       "      <th>Retweet Count</th>\n",
       "      <th>Created At</th>\n",
       "      <th>Username</th>\n",
       "      <th>Likes</th>\n",
       "      <th>User Description</th>\n",
       "      <th>Following</th>\n",
       "      <th>Followers</th>\n",
       "    </tr>\n",
       "  </thead>\n",
       "  <tbody>\n",
       "    <tr>\n",
       "      <th>0</th>\n",
       "      <td>0</td>\n",
       "      <td>Medical #cannabis sales in #Arkansas surpassed...</td>\n",
       "      <td>1</td>\n",
       "      <td>0</td>\n",
       "      <td>2022-02-25 22:01:52+00:00</td>\n",
       "      <td>ganjapreneur</td>\n",
       "      <td>11388</td>\n",
       "      <td>Ganjapreneur is the industry leader in cannabi...</td>\n",
       "      <td>2780</td>\n",
       "      <td>38643</td>\n",
       "    </tr>\n",
       "    <tr>\n",
       "      <th>1</th>\n",
       "      <td>1</td>\n",
       "      <td>RT @KeepfitKingdom: NO SLEEP? Then CBD or Krat...</td>\n",
       "      <td>0</td>\n",
       "      <td>1</td>\n",
       "      <td>2022-02-25 22:01:11+00:00</td>\n",
       "      <td>AlanRiseboro7</td>\n",
       "      <td>139</td>\n",
       "      <td>NaN</td>\n",
       "      <td>241</td>\n",
       "      <td>23</td>\n",
       "    </tr>\n",
       "    <tr>\n",
       "      <th>2</th>\n",
       "      <td>2</td>\n",
       "      <td>What are 1-4 issues you want to fix in South D...</td>\n",
       "      <td>0</td>\n",
       "      <td>0</td>\n",
       "      <td>2022-02-25 22:01:07+00:00</td>\n",
       "      <td>JodellWb</td>\n",
       "      <td>46712</td>\n",
       "      <td>Dog lover</td>\n",
       "      <td>1458</td>\n",
       "      <td>327</td>\n",
       "    </tr>\n",
       "    <tr>\n",
       "      <th>3</th>\n",
       "      <td>3</td>\n",
       "      <td>RT @LePro_1: ☮️ Make Art Not War! ☮️🕊️🌿\\n\\nCry...</td>\n",
       "      <td>0</td>\n",
       "      <td>33</td>\n",
       "      <td>2022-02-25 22:01:01+00:00</td>\n",
       "      <td>Ikky_Arts</td>\n",
       "      <td>5929</td>\n",
       "      <td>🚀 Fractal Multiverse Collection\\n👉 100 Unique ...</td>\n",
       "      <td>1313</td>\n",
       "      <td>1591</td>\n",
       "    </tr>\n",
       "    <tr>\n",
       "      <th>4</th>\n",
       "      <td>4</td>\n",
       "      <td>The Pennsylvania Department of Agriculture is ...</td>\n",
       "      <td>0</td>\n",
       "      <td>0</td>\n",
       "      <td>2022-02-25 22:00:59+00:00</td>\n",
       "      <td>JuanLaceyFCB</td>\n",
       "      <td>0</td>\n",
       "      <td>Farms Close By - CEO</td>\n",
       "      <td>3</td>\n",
       "      <td>2</td>\n",
       "    </tr>\n",
       "  </tbody>\n",
       "</table>\n",
       "</div>"
      ],
      "text/plain": [
       "   Unnamed: 0                                            Message  \\\n",
       "0           0  Medical #cannabis sales in #Arkansas surpassed...   \n",
       "1           1  RT @KeepfitKingdom: NO SLEEP? Then CBD or Krat...   \n",
       "2           2  What are 1-4 issues you want to fix in South D...   \n",
       "3           3  RT @LePro_1: ☮️ Make Art Not War! ☮️🕊️🌿\\n\\nCry...   \n",
       "4           4  The Pennsylvania Department of Agriculture is ...   \n",
       "\n",
       "   Tweet Favorite Count  Retweet Count                 Created At  \\\n",
       "0                     1              0  2022-02-25 22:01:52+00:00   \n",
       "1                     0              1  2022-02-25 22:01:11+00:00   \n",
       "2                     0              0  2022-02-25 22:01:07+00:00   \n",
       "3                     0             33  2022-02-25 22:01:01+00:00   \n",
       "4                     0              0  2022-02-25 22:00:59+00:00   \n",
       "\n",
       "        Username  Likes                                   User Description  \\\n",
       "0   ganjapreneur  11388  Ganjapreneur is the industry leader in cannabi...   \n",
       "1  AlanRiseboro7    139                                                NaN   \n",
       "2       JodellWb  46712                                          Dog lover   \n",
       "3      Ikky_Arts   5929  🚀 Fractal Multiverse Collection\\n👉 100 Unique ...   \n",
       "4   JuanLaceyFCB      0                               Farms Close By - CEO   \n",
       "\n",
       "   Following  Followers  \n",
       "0       2780      38643  \n",
       "1        241         23  \n",
       "2       1458        327  \n",
       "3       1313       1591  \n",
       "4          3          2  "
      ]
     },
     "execution_count": 3,
     "metadata": {},
     "output_type": "execute_result"
    }
   ],
   "source": [
    "tweets = pd.read_csv('marijuana.csv')\n",
    "num_tweets = tweets.shape[0]\n",
    "tweets.head()"
   ]
  },
  {
   "cell_type": "code",
   "execution_count": 4,
   "id": "b7a688cc",
   "metadata": {},
   "outputs": [
    {
     "data": {
      "text/plain": [
       "5000"
      ]
     },
     "execution_count": 4,
     "metadata": {},
     "output_type": "execute_result"
    }
   ],
   "source": []
  },
  {
   "cell_type": "code",
   "execution_count": null,
   "id": "2d623396",
   "metadata": {},
   "outputs": [],
   "source": []
  }
 ],
 "metadata": {
  "kernelspec": {
   "display_name": "Python 3 (ipykernel)",
   "language": "python",
   "name": "python3"
  },
  "language_info": {
   "codemirror_mode": {
    "name": "ipython",
    "version": 3
   },
   "file_extension": ".py",
   "mimetype": "text/x-python",
   "name": "python",
   "nbconvert_exporter": "python",
   "pygments_lexer": "ipython3",
   "version": "3.9.7"
  }
 },
 "nbformat": 4,
 "nbformat_minor": 5
}
