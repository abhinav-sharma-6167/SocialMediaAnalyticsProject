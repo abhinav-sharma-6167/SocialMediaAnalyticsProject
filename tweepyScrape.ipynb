{
 "cells": [
  {
   "cell_type": "code",
   "execution_count": 4,
   "metadata": {
    "ExecuteTime": {
     "end_time": "2022-02-27T20:54:25.893981Z",
     "start_time": "2022-02-27T20:53:47.163316Z"
    }
   },
   "outputs": [
    {
     "name": "stdout",
     "output_type": "stream",
     "text": [
      "Enter the number of tweets that you want to extract- 2000\n"
     ]
    }
   ],
   "source": [
    "import tweepy\n",
    "from tweepy import OAuthHandler\n",
    "import json\n",
    "import pandas as pd\n",
    "import time\n",
    "\n",
    "consumer_key = \"jPkc2YVOxVK0flbJEpg28qmuo\"\n",
    "consumer_secret = \"rGjoyAUCfLy9DAZm9Wus3C3D1z6J4Rt3xUNBXizi6v7QAquImV\"\n",
    "access_token = \"1531528003-XVZtiIljKHxWgcorPfrMZk9acnRcJ9eg1efNOEo\"\n",
    "access_secret = \"nFtz6uLe8zTJHtY5rYqzIHSkdavYbu7n44rYqw2Cn5t0p\"\n",
    "\n",
    "#s = '#weed OR #marijuana OR #legalize OR #cannabis OR #cannabisculture OR #legalize OR #cannabiscommunity OR #thc OR #cbd OR #hemp OR #legalizeit OR #maryjane OR #legal OR #legalizabrasil OR #medicalmarijuana'\n",
    "s = '#weed OR #marijuana OR #legalize OR #cannabis OR #cannabisculture OR #legalize OR #cannabiscommunity OR #thc OR #cbd OR #hemp OR #legalizeit OR #maryjane OR #legal OR #legalizabrasil OR #medicalmarijuana AND Democrat OR Biden OR GunControl OR Antifa OR liberal'\n",
    "#Democrat, #Biden, #GunControl, #Antifa\n",
    "\n",
    "maximum_number_of_tweets_to_be_extracted = int(input('Enter the number of tweets that you want to extract- '))\n",
    "\n",
    "# Mention the hashtag that you want to look out for\n",
    "\n",
    "# hashtag = input('Enter the hashtag you want to scrape- ')\n",
    " \n",
    "auth = OAuthHandler(consumer_key, consumer_secret)\n",
    "auth.set_access_token(access_token, access_secret)\n",
    "api = tweepy.API(auth, wait_on_rate_limit=True)\n",
    "\n",
    "message,favorite_count,retweet_count,created_at,user_name,favourites_count,description,friends_count,followers_count=[],[],[],[],[],[],[],[],[]\n",
    "\n",
    "statuses = tweepy.Cursor(api.search_tweets, q=s).items(maximum_number_of_tweets_to_be_extracted)\n",
    "\n",
    "for status in statuses:\n",
    "    message.append(status.text)\n",
    "    favorite_count.append(status.favorite_count)\n",
    "    retweet_count.append(status.retweet_count)\n",
    "    created_at.append(status.created_at)\n",
    "    user_name.append(status.user.screen_name)\n",
    "    favourites_count.append(status.user.favourites_count)\n",
    "    description.append(status.user.description)\n",
    "    friends_count.append(status.user.friends_count)\n",
    "    followers_count.append(status.user.followers_count)\n",
    "    time.sleep(0.3)\n",
    "\n",
    "df = pd.DataFrame({'Message':message,\n",
    "                'Tweet Favorite Count':favorite_count,\n",
    "                'Retweet Count':retweet_count,\n",
    "                'Created At':created_at,\n",
    "                'Username':user_name,\n",
    "                'Likes':favourites_count,\n",
    "                'User Description':description,\n",
    "                'Following':friends_count,\n",
    "                'Followers':followers_count})\n",
    "\n",
    "df.to_csv(\"marijuana_dem2.csv\")"
   ]
  },
  {
   "cell_type": "code",
   "execution_count": 5,
   "metadata": {
    "ExecuteTime": {
     "end_time": "2022-02-27T21:00:23.312332Z",
     "start_time": "2022-02-27T20:59:02.988213Z"
    }
   },
   "outputs": [
    {
     "name": "stdout",
     "output_type": "stream",
     "text": [
      "Enter the number of tweets that you want to extract- 2000\n"
     ]
    }
   ],
   "source": [
    "import tweepy\n",
    "from tweepy import OAuthHandler\n",
    "import json\n",
    "import pandas as pd\n",
    "import time\n",
    "\n",
    "consumer_key = \"jPkc2YVOxVK0flbJEpg28qmuo\"\n",
    "consumer_secret = \"rGjoyAUCfLy9DAZm9Wus3C3D1z6J4Rt3xUNBXizi6v7QAquImV\"\n",
    "access_token = \"1531528003-XVZtiIljKHxWgcorPfrMZk9acnRcJ9eg1efNOEo\"\n",
    "access_secret = \"nFtz6uLe8zTJHtY5rYqzIHSkdavYbu7n44rYqw2Cn5t0p\"\n",
    "\n",
    "#s = '#weed OR #marijuana OR #legalize OR #cannabis OR #cannabisculture OR #legalize OR #cannabiscommunity OR #thc OR #cbd OR #hemp OR #legalizeit OR #maryjane OR #legal OR #legalizabrasil OR #medicalmarijuana'\n",
    "s = '#weed OR #marijuana OR #legalize OR #cannabis OR #cannabisculture OR #legalize OR #cannabiscommunity OR #thc OR #cbd OR #hemp OR #legalizeit OR #maryjane OR #legal OR #legalizabrasil OR #medicalmarijuana AND Republican OR GOP OR Trump OR NRA OR conservative'\n",
    "#s = '#Democrat OR #Biden OR #GunControl OR #Antifa'\n",
    "#Democrat, #Biden, #GunControl, #Antifa\n",
    "\n",
    "maximum_number_of_tweets_to_be_extracted = int(input('Enter the number of tweets that you want to extract- '))\n",
    "\n",
    "# Mention the hashtag that you want to look out for\n",
    "\n",
    "# hashtag = input('Enter the hashtag you want to scrape- ')\n",
    " \n",
    "auth = OAuthHandler(consumer_key, consumer_secret)\n",
    "auth.set_access_token(access_token, access_secret)\n",
    "api = tweepy.API(auth, wait_on_rate_limit=True)\n",
    "\n",
    "message,favorite_count,retweet_count,created_at,user_name,favourites_count,description,friends_count,followers_count=[],[],[],[],[],[],[],[],[]\n",
    "\n",
    "statuses = tweepy.Cursor(api.search_tweets, q=s).items(maximum_number_of_tweets_to_be_extracted)\n",
    "\n",
    "for status in statuses:\n",
    "    message.append(status.text)\n",
    "    favorite_count.append(status.favorite_count)\n",
    "    retweet_count.append(status.retweet_count)\n",
    "    created_at.append(status.created_at)\n",
    "    user_name.append(status.user.screen_name)\n",
    "    favourites_count.append(status.user.favourites_count)\n",
    "    description.append(status.user.description)\n",
    "    friends_count.append(status.user.friends_count)\n",
    "    followers_count.append(status.user.followers_count)\n",
    "    time.sleep(0.3)\n",
    "\n",
    "df = pd.DataFrame({'Message':message,\n",
    "                'Tweet Favorite Count':favorite_count,\n",
    "                'Retweet Count':retweet_count,\n",
    "                'Created At':created_at,\n",
    "                'Username':user_name,\n",
    "                'Likes':favourites_count,\n",
    "                'User Description':description,\n",
    "                'Following':friends_count,\n",
    "                'Followers':followers_count})\n",
    "\n",
    "df.to_csv(\"marijuana_rep.csv\")"
   ]
  }
 ],
 "metadata": {
  "hide_input": false,
  "kernelspec": {
   "display_name": "Python 3 (ipykernel)",
   "language": "python",
   "name": "python3"
  },
  "language_info": {
   "codemirror_mode": {
    "name": "ipython",
    "version": 3
   },
   "file_extension": ".py",
   "mimetype": "text/x-python",
   "name": "python",
   "nbconvert_exporter": "python",
   "pygments_lexer": "ipython3",
   "version": "3.8.12"
  },
  "toc": {
   "base_numbering": 1,
   "nav_menu": {},
   "number_sections": true,
   "sideBar": true,
   "skip_h1_title": false,
   "title_cell": "Table of Contents",
   "title_sidebar": "Contents",
   "toc_cell": false,
   "toc_position": {},
   "toc_section_display": true,
   "toc_window_display": false
  },
  "varInspector": {
   "cols": {
    "lenName": 16,
    "lenType": 16,
    "lenVar": 40
   },
   "kernels_config": {
    "python": {
     "delete_cmd_postfix": "",
     "delete_cmd_prefix": "del ",
     "library": "var_list.py",
     "varRefreshCmd": "print(var_dic_list())"
    },
    "r": {
     "delete_cmd_postfix": ") ",
     "delete_cmd_prefix": "rm(",
     "library": "var_list.r",
     "varRefreshCmd": "cat(var_dic_list()) "
    }
   },
   "types_to_exclude": [
    "module",
    "function",
    "builtin_function_or_method",
    "instance",
    "_Feature"
   ],
   "window_display": false
  }
 },
 "nbformat": 4,
 "nbformat_minor": 4
}
